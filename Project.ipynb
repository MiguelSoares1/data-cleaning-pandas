{
 "cells": [
  {
   "cell_type": "code",
   "execution_count": 297,
   "id": "b289a534-1a4e-4b57-a596-9a87e615e360",
   "metadata": {},
   "outputs": [],
   "source": [
    "import numpy as np"
   ]
  },
  {
   "cell_type": "code",
   "execution_count": 245,
   "id": "a8f4a9b2-2e5d-48a7-bfad-8114c1c4ef6a",
   "metadata": {},
   "outputs": [],
   "source": [
    "import pandas as pd\n",
    "import matplotlib.pyplot as plt \n",
    "import seaborn as sns\n",
    "# Load Titanic dataset from an online source\n",
    "url = R\"C:\\Users\\toloz\\Ironhack\\Week 2\\Project\\GSAF5.xlsx\"\n",
    "df = pd.read_excel(url) "
   ]
  },
  {
   "cell_type": "code",
   "execution_count": 247,
   "id": "87489422-cdd5-4f4d-9654-b9fccbff062e",
   "metadata": {},
   "outputs": [],
   "source": [
    "# I will drop those additional columns that appeared out of nowhere \n",
    "df = df.drop(columns=[\"pdf\", \"href formula\", \"href\", \"Case Number\", \"Case Number.1\", \"original order\", \"Unnamed: 21\", \"Unnamed: 22\"])\n"
   ]
  },
  {
   "cell_type": "markdown",
   "id": "73aed2ab-6279-4428-b64c-1ab7f557f7db",
   "metadata": {},
   "source": [
    "Columns like Date and year should not coexist only date if we want to time series analyze we can then just extract the month or the year from the Date \n",
    "Also change the data type of the column date into datetime()\n"
   ]
  },
  {
   "cell_type": "code",
   "execution_count": 250,
   "id": "8689e021-3800-440f-bfe3-fa3469aaf1c7",
   "metadata": {},
   "outputs": [],
   "source": [
    "# for column in df:\n",
    "  #  print(df[column].value_counts())"
   ]
  },
  {
   "cell_type": "code",
   "execution_count": 252,
   "id": "b7b709df-de97-4d1c-b17a-58531d600def",
   "metadata": {},
   "outputs": [
    {
     "data": {
      "text/plain": [
       "Activity\n",
       "Surfing                                          1133\n",
       "Swimming                                          997\n",
       "Fishing                                           490\n",
       "Spearfishing                                      388\n",
       "Wading                                            177\n",
       "                                                 ... \n",
       "Diving for abalone (Scuba)                          1\n",
       "Floating on a small orange raft                     1\n",
       "Filming & feeding captive sharks                    1\n",
       "Attempting to drive shark away from the beach       1\n",
       "Wreck of  large double sailing canoe                1\n",
       "Name: count, Length: 1605, dtype: int64"
      ]
     },
     "execution_count": 252,
     "metadata": {},
     "output_type": "execute_result"
    }
   ],
   "source": [
    "df[\"Activity\"].value_counts()"
   ]
  },
  {
   "cell_type": "markdown",
   "id": "c2d803d6-4e77-4ed8-aee5-7c972b8e933e",
   "metadata": {},
   "source": [
    "Date data type should change to a data type of datetime \n",
    "remove the year since we can get the year from date \n",
    "In the Age maybe we could remove everything that has symbols or text and turn into integer \n",
    "change fatal to boolean "
   ]
  },
  {
   "cell_type": "code",
   "execution_count": null,
   "id": "6f1ddd70-4470-409b-b9ff-d39d34e0c6d0",
   "metadata": {},
   "outputs": [],
   "source": []
  },
  {
   "cell_type": "code",
   "execution_count": 257,
   "id": "635e23e0-ea6c-4065-a535-c1df91494611",
   "metadata": {},
   "outputs": [],
   "source": [
    "# Lets first change the columns names to lower case and remove white space for example in Fatal y/n\n",
    "df.rename(columns={ col: col.strip().replace(\" \", \"_\").lower() for col in df.columns }, inplace=True)\n",
    "#for columns in df.columns:\n",
    "   # print(columns)"
   ]
  },
  {
   "cell_type": "code",
   "execution_count": 259,
   "id": "97838d8c-3f99-4631-bd34-4c295ea53967",
   "metadata": {},
   "outputs": [
    {
     "data": {
      "text/html": [
       "<div>\n",
       "<style scoped>\n",
       "    .dataframe tbody tr th:only-of-type {\n",
       "        vertical-align: middle;\n",
       "    }\n",
       "\n",
       "    .dataframe tbody tr th {\n",
       "        vertical-align: top;\n",
       "    }\n",
       "\n",
       "    .dataframe thead th {\n",
       "        text-align: right;\n",
       "    }\n",
       "</style>\n",
       "<table border=\"1\" class=\"dataframe\">\n",
       "  <thead>\n",
       "    <tr style=\"text-align: right;\">\n",
       "      <th></th>\n",
       "      <th>date</th>\n",
       "      <th>year</th>\n",
       "      <th>type</th>\n",
       "      <th>country</th>\n",
       "      <th>state</th>\n",
       "      <th>location</th>\n",
       "      <th>activity</th>\n",
       "      <th>name</th>\n",
       "      <th>sex</th>\n",
       "      <th>age</th>\n",
       "      <th>injury</th>\n",
       "      <th>fatal_y/n</th>\n",
       "      <th>time</th>\n",
       "      <th>species</th>\n",
       "      <th>source</th>\n",
       "    </tr>\n",
       "  </thead>\n",
       "  <tbody>\n",
       "    <tr>\n",
       "      <th>0</th>\n",
       "      <td>2025-06-17 00:00:00</td>\n",
       "      <td>2025.0</td>\n",
       "      <td>Unprovoked</td>\n",
       "      <td>USA</td>\n",
       "      <td>South Carolina</td>\n",
       "      <td>Hilton Head Island</td>\n",
       "      <td>Swimming</td>\n",
       "      <td>Not stated</td>\n",
       "      <td>F</td>\n",
       "      <td>12</td>\n",
       "      <td>Laceration to lower right leg</td>\n",
       "      <td>N</td>\n",
       "      <td>1200hrs</td>\n",
       "      <td>Not stated</td>\n",
       "      <td>Kevin McMurray Trackingsharks.com:</td>\n",
       "    </tr>\n",
       "    <tr>\n",
       "      <th>1</th>\n",
       "      <td>2025-06-11 00:00:00</td>\n",
       "      <td>2025.0</td>\n",
       "      <td>Unprovoked</td>\n",
       "      <td>USA</td>\n",
       "      <td>Florida</td>\n",
       "      <td>Boca Grande</td>\n",
       "      <td>Snorkeling</td>\n",
       "      <td>Leah Lendel</td>\n",
       "      <td>F</td>\n",
       "      <td>9</td>\n",
       "      <td>Right hand almost torn off</td>\n",
       "      <td>N</td>\n",
       "      <td>12.11 hrs</td>\n",
       "      <td>Bull shark</td>\n",
       "      <td>Kevin McMurray Trackingsharks.com: James Kings...</td>\n",
       "    </tr>\n",
       "    <tr>\n",
       "      <th>2</th>\n",
       "      <td>2025-05-29 00:00:00</td>\n",
       "      <td>2025.0</td>\n",
       "      <td>Unprovoked</td>\n",
       "      <td>USA</td>\n",
       "      <td>North Carolina</td>\n",
       "      <td>Sunset Beach</td>\n",
       "      <td>Swimming</td>\n",
       "      <td>Sean Barton</td>\n",
       "      <td>M</td>\n",
       "      <td>26</td>\n",
       "      <td>Gash to lower left leg</td>\n",
       "      <td>N</td>\n",
       "      <td>1100hrs</td>\n",
       "      <td>Not stated</td>\n",
       "      <td>Kevin McMurray Trackingsharks.com: Clay Crewel...</td>\n",
       "    </tr>\n",
       "    <tr>\n",
       "      <th>3</th>\n",
       "      <td>2025-05-26 00:00:00</td>\n",
       "      <td>2025.0</td>\n",
       "      <td>Unprovoked</td>\n",
       "      <td>Vanuatu</td>\n",
       "      <td>South Santo</td>\n",
       "      <td>Espiitu Santo Island</td>\n",
       "      <td>Swimming</td>\n",
       "      <td>Tumas</td>\n",
       "      <td>M</td>\n",
       "      <td>14</td>\n",
       "      <td>Multiple injuries to body one hand and leg bit...</td>\n",
       "      <td>Y</td>\n",
       "      <td>pm</td>\n",
       "      <td>Not stated</td>\n",
       "      <td>Kevin McMurray Trackingsharks.com</td>\n",
       "    </tr>\n",
       "    <tr>\n",
       "      <th>4</th>\n",
       "      <td>2025-05-15 00:00:00</td>\n",
       "      <td>2025.0</td>\n",
       "      <td>Unprovoked</td>\n",
       "      <td>Australia</td>\n",
       "      <td>South Australia</td>\n",
       "      <td>Port Noarlunga</td>\n",
       "      <td>Swimming</td>\n",
       "      <td>Richard Vinall</td>\n",
       "      <td>M</td>\n",
       "      <td>66</td>\n",
       "      <td>Injury to thigh</td>\n",
       "      <td>N</td>\n",
       "      <td>0945hrs</td>\n",
       "      <td>Not stated</td>\n",
       "      <td>Simon DeMarchi: Todd Smith: 9 News:ABC News</td>\n",
       "    </tr>\n",
       "    <tr>\n",
       "      <th>...</th>\n",
       "      <td>...</td>\n",
       "      <td>...</td>\n",
       "      <td>...</td>\n",
       "      <td>...</td>\n",
       "      <td>...</td>\n",
       "      <td>...</td>\n",
       "      <td>...</td>\n",
       "      <td>...</td>\n",
       "      <td>...</td>\n",
       "      <td>...</td>\n",
       "      <td>...</td>\n",
       "      <td>...</td>\n",
       "      <td>...</td>\n",
       "      <td>...</td>\n",
       "      <td>...</td>\n",
       "    </tr>\n",
       "    <tr>\n",
       "      <th>7015</th>\n",
       "      <td>Before 1903</td>\n",
       "      <td>0.0</td>\n",
       "      <td>Unprovoked</td>\n",
       "      <td>AUSTRALIA</td>\n",
       "      <td>Western Australia</td>\n",
       "      <td>Roebuck Bay</td>\n",
       "      <td>Diving</td>\n",
       "      <td>male</td>\n",
       "      <td>M</td>\n",
       "      <td>NaN</td>\n",
       "      <td>FATAL</td>\n",
       "      <td>Y</td>\n",
       "      <td>NaN</td>\n",
       "      <td>NaN</td>\n",
       "      <td>H. Taunton; N. Bartlett,  p. 234</td>\n",
       "    </tr>\n",
       "    <tr>\n",
       "      <th>7016</th>\n",
       "      <td>Before 1903</td>\n",
       "      <td>0.0</td>\n",
       "      <td>Unprovoked</td>\n",
       "      <td>AUSTRALIA</td>\n",
       "      <td>Western Australia</td>\n",
       "      <td>NaN</td>\n",
       "      <td>Pearl diving</td>\n",
       "      <td>Ahmun</td>\n",
       "      <td>M</td>\n",
       "      <td>NaN</td>\n",
       "      <td>FATAL</td>\n",
       "      <td>Y</td>\n",
       "      <td>NaN</td>\n",
       "      <td>NaN</td>\n",
       "      <td>H. Taunton; N. Bartlett,  pp. 233-234</td>\n",
       "    </tr>\n",
       "    <tr>\n",
       "      <th>7017</th>\n",
       "      <td>1900-1905</td>\n",
       "      <td>0.0</td>\n",
       "      <td>Unprovoked</td>\n",
       "      <td>USA</td>\n",
       "      <td>North Carolina</td>\n",
       "      <td>Ocracoke Inlet</td>\n",
       "      <td>Swimming</td>\n",
       "      <td>Coast Guard personnel</td>\n",
       "      <td>M</td>\n",
       "      <td>NaN</td>\n",
       "      <td>FATAL</td>\n",
       "      <td>Y</td>\n",
       "      <td>NaN</td>\n",
       "      <td>NaN</td>\n",
       "      <td>F. Schwartz, p.23; C. Creswell, GSAF</td>\n",
       "    </tr>\n",
       "    <tr>\n",
       "      <th>7018</th>\n",
       "      <td>1883-1889</td>\n",
       "      <td>0.0</td>\n",
       "      <td>Unprovoked</td>\n",
       "      <td>PANAMA</td>\n",
       "      <td>NaN</td>\n",
       "      <td>Panama Bay 8ºN, 79ºW</td>\n",
       "      <td>NaN</td>\n",
       "      <td>Jules Patterson</td>\n",
       "      <td>M</td>\n",
       "      <td>NaN</td>\n",
       "      <td>FATAL</td>\n",
       "      <td>Y</td>\n",
       "      <td>NaN</td>\n",
       "      <td>NaN</td>\n",
       "      <td>The Sun, 10/20/1938</td>\n",
       "    </tr>\n",
       "    <tr>\n",
       "      <th>7019</th>\n",
       "      <td>1845-1853</td>\n",
       "      <td>0.0</td>\n",
       "      <td>Unprovoked</td>\n",
       "      <td>CEYLON (SRI LANKA)</td>\n",
       "      <td>Eastern Province</td>\n",
       "      <td>Below the English fort, Trincomalee</td>\n",
       "      <td>Swimming</td>\n",
       "      <td>male</td>\n",
       "      <td>M</td>\n",
       "      <td>15</td>\n",
       "      <td>FATAL. \"Shark bit him in half, carrying away t...</td>\n",
       "      <td>Y</td>\n",
       "      <td>NaN</td>\n",
       "      <td>NaN</td>\n",
       "      <td>S.W. Baker</td>\n",
       "    </tr>\n",
       "  </tbody>\n",
       "</table>\n",
       "<p>7020 rows × 15 columns</p>\n",
       "</div>"
      ],
      "text/plain": [
       "                     date    year        type             country  \\\n",
       "0     2025-06-17 00:00:00  2025.0  Unprovoked                 USA   \n",
       "1     2025-06-11 00:00:00  2025.0  Unprovoked                 USA   \n",
       "2     2025-05-29 00:00:00  2025.0  Unprovoked                 USA   \n",
       "3     2025-05-26 00:00:00  2025.0  Unprovoked             Vanuatu   \n",
       "4     2025-05-15 00:00:00  2025.0  Unprovoked           Australia   \n",
       "...                   ...     ...         ...                 ...   \n",
       "7015          Before 1903     0.0  Unprovoked           AUSTRALIA   \n",
       "7016          Before 1903     0.0  Unprovoked           AUSTRALIA   \n",
       "7017            1900-1905     0.0  Unprovoked                 USA   \n",
       "7018            1883-1889     0.0  Unprovoked              PANAMA   \n",
       "7019            1845-1853     0.0  Unprovoked  CEYLON (SRI LANKA)   \n",
       "\n",
       "                  state                             location      activity  \\\n",
       "0        South Carolina                 Hilton Head Island        Swimming   \n",
       "1               Florida                          Boca Grande    Snorkeling   \n",
       "2        North Carolina                         Sunset Beach      Swimming   \n",
       "3           South Santo                 Espiitu Santo Island      Swimming   \n",
       "4       South Australia                       Port Noarlunga      Swimming   \n",
       "...                 ...                                  ...           ...   \n",
       "7015  Western Australia                          Roebuck Bay        Diving   \n",
       "7016  Western Australia                                  NaN  Pearl diving   \n",
       "7017     North Carolina                       Ocracoke Inlet      Swimming   \n",
       "7018                NaN                 Panama Bay 8ºN, 79ºW           NaN   \n",
       "7019   Eastern Province  Below the English fort, Trincomalee      Swimming   \n",
       "\n",
       "                       name sex  age  \\\n",
       "0                Not stated   F   12   \n",
       "1               Leah Lendel   F    9   \n",
       "2               Sean Barton   M   26   \n",
       "3                     Tumas   M   14   \n",
       "4            Richard Vinall   M   66   \n",
       "...                     ...  ..  ...   \n",
       "7015                   male   M  NaN   \n",
       "7016                  Ahmun   M  NaN   \n",
       "7017  Coast Guard personnel   M  NaN   \n",
       "7018        Jules Patterson   M  NaN   \n",
       "7019                   male   M   15   \n",
       "\n",
       "                                                 injury fatal_y/n       time  \\\n",
       "0                         Laceration to lower right leg         N    1200hrs   \n",
       "1                            Right hand almost torn off         N  12.11 hrs   \n",
       "2                                Gash to lower left leg         N    1100hrs   \n",
       "3     Multiple injuries to body one hand and leg bit...         Y         pm   \n",
       "4                                       Injury to thigh         N    0945hrs   \n",
       "...                                                 ...       ...        ...   \n",
       "7015                                              FATAL         Y        NaN   \n",
       "7016                                              FATAL         Y        NaN   \n",
       "7017                                              FATAL         Y        NaN   \n",
       "7018                                              FATAL         Y        NaN   \n",
       "7019  FATAL. \"Shark bit him in half, carrying away t...         Y        NaN   \n",
       "\n",
       "         species                                             source  \n",
       "0     Not stated                Kevin McMurray Trackingsharks.com:   \n",
       "1     Bull shark  Kevin McMurray Trackingsharks.com: James Kings...  \n",
       "2     Not stated  Kevin McMurray Trackingsharks.com: Clay Crewel...  \n",
       "3     Not stated                  Kevin McMurray Trackingsharks.com  \n",
       "4     Not stated        Simon DeMarchi: Todd Smith: 9 News:ABC News  \n",
       "...          ...                                                ...  \n",
       "7015         NaN                   H. Taunton; N. Bartlett,  p. 234  \n",
       "7016         NaN              H. Taunton; N. Bartlett,  pp. 233-234  \n",
       "7017         NaN               F. Schwartz, p.23; C. Creswell, GSAF  \n",
       "7018         NaN                                The Sun, 10/20/1938  \n",
       "7019         NaN                                         S.W. Baker  \n",
       "\n",
       "[7020 rows x 15 columns]"
      ]
     },
     "execution_count": 259,
     "metadata": {},
     "output_type": "execute_result"
    }
   ],
   "source": [
    "df"
   ]
  },
  {
   "cell_type": "code",
   "execution_count": 261,
   "id": "8c92d0dd-8d35-4f78-a289-af4cda3b5c40",
   "metadata": {},
   "outputs": [
    {
     "data": {
      "text/plain": [
       "array(['Unprovoked', 'Questionable', 'unprovoked', 'Provoked',\n",
       "       ' Provoked', 'Watercraft', 'Sea Disaster', nan, '?', 'Unconfirmed',\n",
       "       'Unverified', 'Invalid', 'Under investigation', 'Boat'],\n",
       "      dtype=object)"
      ]
     },
     "execution_count": 261,
     "metadata": {},
     "output_type": "execute_result"
    }
   ],
   "source": [
    "df[\"type\"].unique()"
   ]
  },
  {
   "cell_type": "code",
   "execution_count": 263,
   "id": "83e1cd23-1acf-4b88-b879-efa09adb13d6",
   "metadata": {
    "scrolled": true
   },
   "outputs": [
    {
     "data": {
      "text/plain": [
       "date            0\n",
       "year            2\n",
       "type           18\n",
       "country        50\n",
       "state         485\n",
       "location      566\n",
       "activity      585\n",
       "name          219\n",
       "sex           579\n",
       "age          2994\n",
       "injury         35\n",
       "fatal_y/n     561\n",
       "time         3526\n",
       "species      3131\n",
       "source         19\n",
       "dtype: int64"
      ]
     },
     "execution_count": 263,
     "metadata": {},
     "output_type": "execute_result"
    }
   ],
   "source": [
    "#Checking for null values\n",
    "df.isna().sum()"
   ]
  },
  {
   "cell_type": "code",
   "execution_count": 265,
   "id": "7d4f9f29-9ee2-4527-a6bd-c1c6492df676",
   "metadata": {},
   "outputs": [
    {
     "data": {
      "text/plain": [
       "1"
      ]
     },
     "execution_count": 265,
     "metadata": {},
     "output_type": "execute_result"
    }
   ],
   "source": [
    "# check any duplicates in the data\n",
    "df.duplicated().sum()"
   ]
  },
  {
   "cell_type": "code",
   "execution_count": 267,
   "id": "62493f5d-dcc7-467f-ac3a-6ea2e1ce35dd",
   "metadata": {},
   "outputs": [
    {
     "data": {
      "text/html": [
       "<div>\n",
       "<style scoped>\n",
       "    .dataframe tbody tr th:only-of-type {\n",
       "        vertical-align: middle;\n",
       "    }\n",
       "\n",
       "    .dataframe tbody tr th {\n",
       "        vertical-align: top;\n",
       "    }\n",
       "\n",
       "    .dataframe thead th {\n",
       "        text-align: right;\n",
       "    }\n",
       "</style>\n",
       "<table border=\"1\" class=\"dataframe\">\n",
       "  <thead>\n",
       "    <tr style=\"text-align: right;\">\n",
       "      <th></th>\n",
       "      <th>date</th>\n",
       "      <th>year</th>\n",
       "      <th>type</th>\n",
       "      <th>country</th>\n",
       "      <th>state</th>\n",
       "      <th>location</th>\n",
       "      <th>activity</th>\n",
       "      <th>name</th>\n",
       "      <th>sex</th>\n",
       "      <th>age</th>\n",
       "      <th>injury</th>\n",
       "      <th>fatal_y/n</th>\n",
       "      <th>time</th>\n",
       "      <th>species</th>\n",
       "      <th>source</th>\n",
       "    </tr>\n",
       "  </thead>\n",
       "  <tbody>\n",
       "    <tr>\n",
       "      <th>5394</th>\n",
       "      <td>Fall 1943</td>\n",
       "      <td>1943.0</td>\n",
       "      <td>Unprovoked</td>\n",
       "      <td>USA</td>\n",
       "      <td>Hawaii</td>\n",
       "      <td>Midway Island, Northwestern Hawaiian Islands</td>\n",
       "      <td>Spearfishing</td>\n",
       "      <td>2 males</td>\n",
       "      <td>M</td>\n",
       "      <td>NaN</td>\n",
       "      <td>Calf nipped in each case</td>\n",
       "      <td>N</td>\n",
       "      <td>NaN</td>\n",
       "      <td>\"small sharks\"</td>\n",
       "      <td>W. M. Chapman</td>\n",
       "    </tr>\n",
       "  </tbody>\n",
       "</table>\n",
       "</div>"
      ],
      "text/plain": [
       "           date    year        type country   state  \\\n",
       "5394  Fall 1943  1943.0  Unprovoked     USA  Hawaii   \n",
       "\n",
       "                                          location      activity      name  \\\n",
       "5394  Midway Island, Northwestern Hawaiian Islands  Spearfishing   2 males   \n",
       "\n",
       "     sex  age                    injury fatal_y/n time         species  \\\n",
       "5394   M  NaN  Calf nipped in each case         N  NaN  \"small sharks\"   \n",
       "\n",
       "             source  \n",
       "5394  W. M. Chapman  "
      ]
     },
     "execution_count": 267,
     "metadata": {},
     "output_type": "execute_result"
    }
   ],
   "source": [
    "df[df.duplicated()]"
   ]
  },
  {
   "cell_type": "code",
   "execution_count": 269,
   "id": "64a00b2a-d063-4c36-a0a5-91b3ae454a3c",
   "metadata": {},
   "outputs": [],
   "source": [
    "# Since we only have one duplicate I will just go ahead and remove it\n",
    "df.drop_duplicates(inplace=True)"
   ]
  },
  {
   "cell_type": "code",
   "execution_count": 271,
   "id": "aa9763fa-f27f-4214-9a9e-9d17535ed164",
   "metadata": {},
   "outputs": [
    {
     "data": {
      "text/plain": [
       "fatal_y/n\n",
       "N          4887\n",
       "Y          1479\n",
       "UNKNOWN      71\n",
       " N            7\n",
       "F             5\n",
       "M             3\n",
       "n             1\n",
       "Nq            1\n",
       "2017          1\n",
       "Y x 2         1\n",
       "N             1\n",
       "y             1\n",
       "Name: count, dtype: int64"
      ]
     },
     "execution_count": 271,
     "metadata": {},
     "output_type": "execute_result"
    }
   ],
   "source": [
    "# Lets now do an example of data standardize \n",
    "df[\"fatal_y/n\"].value_counts()"
   ]
  },
  {
   "cell_type": "code",
   "execution_count": 273,
   "id": "d10fd2cb-3d7e-49a3-824a-c3b5cb91114e",
   "metadata": {},
   "outputs": [],
   "source": [
    "# As we can see, there are some variations of 'N' and 'Y'.\n",
    "# Since we can't be sure what '2017', 'M', or 'F' are supposed to represent,\n",
    "# we'll replace them with 'UNKNOWN' as they are unclear or invalid responses."
   ]
  },
  {
   "cell_type": "code",
   "execution_count": 275,
   "id": "2f7bde51-ea77-487a-b69e-5bc010815b80",
   "metadata": {},
   "outputs": [],
   "source": [
    "df[\"fatal_y/n\"] = df[\"fatal_y/n\"].str.strip().str.upper().replace({\"n\":\"N\", \"F\":\"UNKNOWN\",\"M\":\"UNKNOWN\",\"NQ\":\"UNKNOWN\",\"2017\":\"UNKNOWN\",\"Y X 2\": \"Y\"})"
   ]
  },
  {
   "cell_type": "code",
   "execution_count": 281,
   "id": "3b2448dc-9191-48d7-87ad-0bd281b7bf80",
   "metadata": {},
   "outputs": [
    {
     "data": {
      "text/plain": [
       "fatal_y/n\n",
       "N          4896\n",
       "Y          1481\n",
       "UNKNOWN     642\n",
       "Name: count, dtype: int64"
      ]
     },
     "execution_count": 281,
     "metadata": {},
     "output_type": "execute_result"
    }
   ],
   "source": [
    "# Lets check our changes \n",
    "df[\"fatal_y/n\"].value_counts()"
   ]
  },
  {
   "cell_type": "code",
   "execution_count": 279,
   "id": "e5d3efd3-5ab5-4ac2-9d13-df34765c76e6",
   "metadata": {},
   "outputs": [],
   "source": [
    "# Since in the fatal there is 561 na its safe to assume that is UNKOWN and we can replace those nulls with fillna\n",
    "df[\"fatal_y/n\"] = df[\"fatal_y/n\"].fillna(\"UNKNOWN\")"
   ]
  },
  {
   "cell_type": "code",
   "execution_count": 283,
   "id": "a1d77f0c-f1ca-414f-863d-8bf667be0437",
   "metadata": {},
   "outputs": [],
   "source": [
    "Filtered_by_year = df[df[\"year\"].between(2000,2019)]"
   ]
  },
  {
   "cell_type": "code",
   "execution_count": 109,
   "id": "3e3fd261-e8c1-4188-8d25-789ac7596b32",
   "metadata": {},
   "outputs": [
    {
     "data": {
      "text/plain": [
       "array(['Unprovoked', 'Provoked', 'Questionable', 'Watercraft',\n",
       "       'Unconfirmed', 'Unverified', 'Invalid', 'Under investigation',\n",
       "       'Sea Disaster', nan], dtype=object)"
      ]
     },
     "execution_count": 109,
     "metadata": {},
     "output_type": "execute_result"
    }
   ],
   "source": [
    "Filtered_by_year[\"type\"].unique()"
   ]
  },
  {
   "cell_type": "code",
   "execution_count": 426,
   "id": "9665b67b-26b6-4839-b521-92e9acbbdce9",
   "metadata": {},
   "outputs": [],
   "source": [
    "Fatal_Attacks_Years = Filtered_by_year[\n",
    "    (Filtered_by_year[\"fatal_y/n\"] == 'Y') | (Filtered_by_year[\"fatal_y/n\"] == 'N')\n",
    "].groupby('year')['fatal_y/n'].value_counts()\n"
   ]
  },
  {
   "cell_type": "code",
   "execution_count": 355,
   "id": "4e450dc6-6b02-499a-85ed-0bdcb74e20ad",
   "metadata": {},
   "outputs": [
    {
     "name": "stderr",
     "output_type": "stream",
     "text": [
      "C:\\Users\\toloz\\AppData\\Local\\Temp\\ipykernel_33496\\1279502349.py:1: SettingWithCopyWarning: \n",
      "A value is trying to be set on a copy of a slice from a DataFrame.\n",
      "Try using .loc[row_indexer,col_indexer] = value instead\n",
      "\n",
      "See the caveats in the documentation: https://pandas.pydata.org/pandas-docs/stable/user_guide/indexing.html#returning-a-view-versus-a-copy\n",
      "  Filtered_by_year[\"year\"] = Filtered_by_year[\"year\"].astype(int)\n"
     ]
    }
   ],
   "source": [
    "Filtered_by_year[\"year\"] = Filtered_by_year[\"year\"].astype(int)\n"
   ]
  },
  {
   "cell_type": "code",
   "execution_count": 428,
   "id": "0477c5ea-e245-4e7b-9823-9403fa2ed9d5",
   "metadata": {},
   "outputs": [
    {
     "data": {
      "image/png": "[encoded data removed]",
      "text/plain": [
       "<Figure size 1200x600 with 1 Axes>"
      ]
     },
     "metadata": {},
     "output_type": "display_data"
    }
   ],
   "source": [
    "# Step 1: Unstack to get 'Y' and 'N' as columns\n",
    "\n",
    "Fatal_Attacks_Years_v2 = Fatal_Attacks_Years.unstack()\n",
    "Fatal_Attacks_Years_v2.index = Fatal_Attacks_Years_v2.index.astype(int)\n",
    "\n",
    "# Step 2: Plot only the 'Y' column (fatal incidents) as a bar chart\n",
    "Fatal_Attacks_Years_v2['Y'].plot(kind='bar', figsize=(12, 6))\n",
    "\n",
    "# Step 3: Labels and formatting\n",
    "plt.title('Fatal Incidents per Year')\n",
    "plt.xlabel('Year')\n",
    "plt.ylabel('Number of Fatal Incidents')\n",
    "plt.xticks(rotation=45)\n",
    "plt.tight_layout()\n",
    "\n",
    "plt.savefig('fatal_attacks_per_year.png')\n",
    "plt.show()\n"
   ]
  },
  {
   "cell_type": "code",
   "execution_count": 209,
   "id": "49a9e2d7-e319-4e28-81a6-c63e3218072e",
   "metadata": {},
   "outputs": [
    {
     "data": {
      "text/plain": [
       "array(['30s', 45, 33, nan, 17, 37, 70, 57, 22, 9, 30, 38, 23, 44,\n",
       "       '28 & 22', 32, 35, 20, 29, 51, 13, '22, 57, 31', '60s', 40, 11, 26,\n",
       "       16, 21, 49, 18, \"20's\", 43, 8, 50, 64, 19, 65, 10, 67, 53, 28, 34,\n",
       "       12, 25, 58, 74, 46, 41, 31, 15, '9 & 60', 48, 24, 36, '20s', 42,\n",
       "       55, 39, 14, 56, 61, 'a minor', 6, 62, 52, 60, 54, 69, '40s', 7, 3,\n",
       "       82, 73, 68, 'Teen', 47, '40?', 66, '?', 72, 59, 27, 71, '38', '39',\n",
       "       '23', '32', '52', '68', '12', '18', '19', '43', '47', '6', '37',\n",
       "       '9', '36', '10', '16', '13', '11', '17', '14', '30', '50', '29',\n",
       "       '65', '63', '26', '71', '48', '70', '58', '18 months', '22', '41',\n",
       "       '35', '57', '20', '24', '34', '15', '44', '53', '7', '40', '28',\n",
       "       '33', '31', '45', '50s', '8', '51', '61', '42', '25', '66', '21',\n",
       "       '77', '46', '60', '74', '55', '27', '3', '56', '64', 'teen',\n",
       "       '28 & 26', '62', '5', '49', '54', '86', '59', '18 or 20',\n",
       "       '12 or 13', '46 & 34', '28, 23 & 30', 'Teens', 77, 63, '36 & 26',\n",
       "       '8 or 10', 84, '\\xa0 ', ' ', '30 or 36', '6½', '21 & ?', 75,\n",
       "       '33 or 37', 'mid-30s', '23 & 20', 5], dtype=object)"
      ]
     },
     "execution_count": 209,
     "metadata": {},
     "output_type": "execute_result"
    }
   ],
   "source": [
    "Filtered_by_year[\"age\"].unique()"
   ]
  },
  {
   "cell_type": "code",
   "execution_count": 299,
   "id": "a2816ec8-7d24-4fab-8363-b7e5f2b4f1fa",
   "metadata": {},
   "outputs": [
    {
     "name": "stderr",
     "output_type": "stream",
     "text": [
      "C:\\Users\\toloz\\AppData\\Local\\Temp\\ipykernel_33496\\299505130.py:1: SettingWithCopyWarning: \n",
      "A value is trying to be set on a copy of a slice from a DataFrame.\n",
      "Try using .loc[row_indexer,col_indexer] = value instead\n",
      "\n",
      "See the caveats in the documentation: https://pandas.pydata.org/pandas-docs/stable/user_guide/indexing.html#returning-a-view-versus-a-copy\n",
      "  Filtered_by_year['age'] = Filtered_by_year['age'].astype(str).str.findall(r'\\d+').apply(lambda x: x[0] if x else np.nan)\n"
     ]
    }
   ],
   "source": [
    "Filtered_by_year['age'] = Filtered_by_year['age'].astype(str).str.findall(r'\\d+').apply(lambda x: x[0] if x else np.nan)\n"
   ]
  },
  {
   "cell_type": "code",
   "execution_count": 307,
   "id": "1a7735f6-b69a-452f-88e8-763163216017",
   "metadata": {},
   "outputs": [
    {
     "data": {
      "text/plain": [
       "<IntegerArray>\n",
       "[  30,   45,   33, <NA>,   17,   37,   70,   57,   22,    9,   38,   23,   44,\n",
       "   28,   32,   35,   20,   29,   51,   13,   60,   40,   11,   26,   16,   21,\n",
       "   49,   18,   43,    8,   50,   64,   19,   65,   10,   67,   53,   34,   12,\n",
       "   25,   58,   74,   46,   41,   31,   15,   48,   24,   36,   42,   55,   39,\n",
       "   14,   56,   61,    6,   62,   52,   54,   69,    7,    3,   82,   73,   68,\n",
       "   47,   66,   72,   59,   27,   71,   63,   77,    5,   86,   84,   75]\n",
       "Length: 77, dtype: Int64"
      ]
     },
     "execution_count": 307,
     "metadata": {},
     "output_type": "execute_result"
    }
   ],
   "source": [
    "Filtered_by_year['age'].unique()"
   ]
  },
  {
   "cell_type": "code",
   "execution_count": 404,
   "id": "4feb9f5c-ae07-44e4-b7fe-428369822fda",
   "metadata": {},
   "outputs": [
    {
     "name": "stderr",
     "output_type": "stream",
     "text": [
      "C:\\Users\\toloz\\AppData\\Local\\Temp\\ipykernel_33496\\2245634184.py:1: SettingWithCopyWarning: \n",
      "A value is trying to be set on a copy of a slice from a DataFrame.\n",
      "Try using .loc[row_indexer,col_indexer] = value instead\n",
      "\n",
      "See the caveats in the documentation: https://pandas.pydata.org/pandas-docs/stable/user_guide/indexing.html#returning-a-view-versus-a-copy\n",
      "  Filtered_by_year['age'] = pd.to_numeric(Filtered_by_year['age'], errors='coerce').astype('Int64')\n"
     ]
    }
   ],
   "source": [
    "Filtered_by_year['age'] = pd.to_numeric(Filtered_by_year['age'], errors='coerce').astype('Int64')"
   ]
  },
  {
   "cell_type": "code",
   "execution_count": 311,
   "id": "6a355930-0621-40b7-bc5a-7e84c7a80823",
   "metadata": {},
   "outputs": [
    {
     "name": "stderr",
     "output_type": "stream",
     "text": [
      "C:\\Users\\toloz\\AppData\\Local\\Temp\\ipykernel_33496\\394027493.py:3: SettingWithCopyWarning: \n",
      "A value is trying to be set on a copy of a slice from a DataFrame.\n",
      "Try using .loc[row_indexer,col_indexer] = value instead\n",
      "\n",
      "See the caveats in the documentation: https://pandas.pydata.org/pandas-docs/stable/user_guide/indexing.html#returning-a-view-versus-a-copy\n",
      "  Filtered_by_year['activity_clean'] = Filtered_by_year['activity'].apply(\n"
     ]
    }
   ],
   "source": [
    "main_activities = ['Swimming', 'Spearfishing', 'Boogie boarding', 'Surfing', 'Fishing', 'Free diving', 'Kayaking', 'Snorkeling']\n",
    "\n",
    "Filtered_by_year['activity_clean'] = Filtered_by_year['activity'].apply(\n",
    "    lambda x: 'Other' if pd.isna(x) else (\n",
    "        [activity for activity in main_activities if activity.lower() in x.lower()][0]\n",
    "        if any(activity.lower() in x.lower() for activity in main_activities)\n",
    "        else 'Other'\n",
    "    )\n",
    ")\n"
   ]
  },
  {
   "cell_type": "code",
   "execution_count": 315,
   "id": "3f0ffa21-06fd-42ae-8b63-7cfb73924283",
   "metadata": {},
   "outputs": [
    {
     "data": {
      "text/plain": [
       "activity_clean\n",
       "Surfing            738\n",
       "Other              644\n",
       "Swimming           346\n",
       "Fishing            222\n",
       "Spearfishing       148\n",
       "Snorkeling          86\n",
       "Boogie boarding     46\n",
       "Kayaking            30\n",
       "Free diving         11\n",
       "Name: count, dtype: int64"
      ]
     },
     "execution_count": 315,
     "metadata": {},
     "output_type": "execute_result"
    }
   ],
   "source": [
    "Filtered_by_year['activity_clean'].value_counts()"
   ]
  },
  {
   "cell_type": "code",
   "execution_count": null,
   "id": "17622a5c-ec06-4903-933c-af3777656396",
   "metadata": {},
   "outputs": [],
   "source": [
    "Filtered_by_year.groupby([\"\"])"
   ]
  },
  {
   "cell_type": "code",
   "execution_count": 323,
   "id": "7bc584cd-2f07-457c-b712-15a721e8379c",
   "metadata": {},
   "outputs": [
    {
     "data": {
      "text/plain": [
       "Index(['date', 'year', 'type', 'country', 'state', 'location', 'activity',\n",
       "       'name', 'sex', 'age', 'injury', 'fatal_y/n', 'time', 'species',\n",
       "       'source', 'activity_clean'],\n",
       "      dtype='object')"
      ]
     },
     "execution_count": 323,
     "metadata": {},
     "output_type": "execute_result"
    }
   ],
   "source": [
    "Filtered_by_year.columns"
   ]
  },
  {
   "cell_type": "code",
   "execution_count": 385,
   "id": "9c24cf64-95c2-4783-aefc-dee06a537cd2",
   "metadata": {},
   "outputs": [
    {
     "data": {
      "text/plain": [
       "array(['Unprovoked', 'Provoked', 'Questionable', 'Watercraft',\n",
       "       'Unconfirmed', 'Unverified', 'Invalid', 'Under investigation',\n",
       "       'Sea Disaster', nan], dtype=object)"
      ]
     },
     "execution_count": 385,
     "metadata": {},
     "output_type": "execute_result"
    }
   ],
   "source": [
    "Filtered_by_year[\"type\"].unique()"
   ]
  },
  {
   "cell_type": "code",
   "execution_count": 412,
   "id": "d8f16aef-0cc8-42bc-be31-01d53167de83",
   "metadata": {},
   "outputs": [
    {
     "name": "stderr",
     "output_type": "stream",
     "text": [
      "C:\\Users\\toloz\\AppData\\Local\\Temp\\ipykernel_33496\\964303775.py:11: SettingWithCopyWarning: \n",
      "A value is trying to be set on a copy of a slice from a DataFrame.\n",
      "Try using .loc[row_indexer,col_indexer] = value instead\n",
      "\n",
      "See the caveats in the documentation: https://pandas.pydata.org/pandas-docs/stable/user_guide/indexing.html#returning-a-view-versus-a-copy\n",
      "  Filtered_by_year['grouped_ages'] = Filtered_by_year['age'].apply(age_group)\n"
     ]
    }
   ],
   "source": [
    "def age_group(age):\n",
    "    if pd.isna(age):\n",
    "        return 'Unknown'\n",
    "    elif age < 40:\n",
    "        return 'Young Adult'\n",
    "    elif age < 70:\n",
    "        return 'Middle Aged'\n",
    "    else:\n",
    "        return 'Old'\n",
    "\n",
    "Filtered_by_year['grouped_ages'] = Filtered_by_year['age'].apply(age_group)\n"
   ]
  },
  {
   "cell_type": "code",
   "execution_count": 418,
   "id": "7ef2ed65-223b-41a8-9281-52869a43a2c6",
   "metadata": {},
   "outputs": [
    {
     "name": "stdout",
     "output_type": "stream",
     "text": [
      "   grouped_ages activity_clean        type  count\n",
      "17  Young Adult       Swimming  Unprovoked     33\n",
      "8   Middle Aged       Swimming  Unprovoked     12\n",
      "10          Old       Swimming  Unprovoked      3\n"
     ]
    }
   ],
   "source": [
    "top_activity_per_age_group = (\n",
    "    age_activity_type_counts\n",
    "    .groupby('grouped_ages')\n",
    "    .head(1)\n",
    "    .sort_values(by='count', ascending=False)\n",
    ")\n",
    "\n",
    "print(top_activity_per_age_group)\n"
   ]
  },
  {
   "cell_type": "code",
   "execution_count": 430,
   "id": "0b5826b3-95a0-4f1e-b19f-198830a61a75",
   "metadata": {},
   "outputs": [
    {
     "data": {
      "image/png": "[encoded data removed]",
      "text/plain": [
       "<Figure size 640x480 with 1 Axes>"
      ]
     },
     "metadata": {},
     "output_type": "display_data"
    }
   ],
   "source": [
    "sns.barplot(\n",
    "    data=top_activity_per_age_group,\n",
    "    x='count',\n",
    "    y='grouped_ages',\n",
    "    hue='activity_clean'\n",
    ")\n",
    "plt.title('Top Fatal Activity by Age Group')\n",
    "plt.xlabel('Fatal Count')\n",
    "plt.ylabel('Age Group')\n",
    "plt.legend(title='Activity')\n",
    "\n",
    "# Add note\n",
    "plt.text(\n",
    "    x=0, y=-1,\n",
    "    s='Note: All fatalities shown are Unprovoked',\n",
    "    fontsize=10,\n",
    "    color='gray'\n",
    ")\n",
    "\n",
    "plt.tight_layout()\n",
    "plt.savefig('top_fatal_activity_by_age_group.png')  # Save the plot\n",
    "plt.show()"
   ]
  },
  {
   "cell_type": "code",
   "execution_count": null,
   "id": "c5b19310-db4d-4b95-b662-bb5ba5749660",
   "metadata": {},
   "outputs": [],
   "source": []
  }
 ],
 "metadata": {
  "kernelspec": {
   "display_name": "Python [conda env:base] *",
   "language": "python",
   "name": "conda-base-py"
  },
  "language_info": {
   "codemirror_mode": {
    "name": "ipython",
    "version": 3
   },
   "file_extension": ".py",
   "mimetype": "text/x-python",
   "name": "python",
   "nbconvert_exporter": "python",
   "pygments_lexer": "ipython3",
   "version": "3.11.5"
  }
 },
 "nbformat": 4,
 "nbformat_minor": 5
}
